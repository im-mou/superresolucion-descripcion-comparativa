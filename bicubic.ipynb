{
  "nbformat": 4,
  "nbformat_minor": 0,
  "metadata": {
    "colab": {
      "name": "bicubic.ipynb",
      "provenance": [],
      "collapsed_sections": [],
      "toc_visible": true
    },
    "kernelspec": {
      "name": "python3",
      "display_name": "Python 3"
    },
    "language_info": {
      "name": "python"
    }
  },
  "cells": [
    {
      "cell_type": "code",
      "metadata": {
        "id": "D3edcTxoEuYp",
        "colab": {
          "base_uri": "https://localhost:8080/"
        },
        "outputId": "6a901320-e58a-4257-ca05-58c54db9b0e2"
      },
      "source": [
        "# obtener el dataset urban100\n",
        "!wget https://data.deepai.org/set5.zip\n",
        "!unzip -qq set5.zip\n",
        "!cd set5/\n",
        "!unzip -qq set5/SR_testing_datasets.zip -d testing\n",
        "!unzip -qq set5/SR_training_datasets.zip -d training"
      ],
      "execution_count": 1,
      "outputs": [
        {
          "output_type": "stream",
          "text": [
            "--2021-05-31 15:31:48--  https://data.deepai.org/set5.zip\n",
            "Resolving data.deepai.org (data.deepai.org)... 138.201.36.183\n",
            "Connecting to data.deepai.org (data.deepai.org)|138.201.36.183|:443... connected.\n",
            "HTTP request sent, awaiting response... 200 OK\n",
            "Length: 407631796 (389M) [application/x-zip-compressed]\n",
            "Saving to: ‘set5.zip’\n",
            "\n",
            "set5.zip            100%[===================>] 388.75M  32.5MB/s    in 13s     \n",
            "\n",
            "2021-05-31 15:32:01 (30.9 MB/s) - ‘set5.zip’ saved [407631796/407631796]\n",
            "\n"
          ],
          "name": "stdout"
        }
      ]
    },
    {
      "cell_type": "code",
      "metadata": {
        "id": "PBck8JoJIaCl"
      },
      "source": [
        "#importar las librerias necesarias\n",
        "import os\n",
        "import math\n",
        "import sys\n",
        "import numpy as np\n",
        "import cv2 as cv\n",
        "from PIL import Image\n",
        "from matplotlib import pyplot as plt\n",
        "\n",
        "from skimage import data, img_as_float\n",
        "from skimage.metrics import structural_similarity\n",
        "from skimage.metrics import mean_squared_error\n",
        "from skimage.metrics import peak_signal_noise_ratio"
      ],
      "execution_count": 2,
      "outputs": []
    },
    {
      "cell_type": "code",
      "metadata": {
        "id": "SMzMhZEaeSFJ"
      },
      "source": [
        "if not os.path.exists('downsampled'):\n",
        "    os.makedirs('downsampled')\n",
        "if not os.path.exists('upsampled'):\n",
        "    os.makedirs('upsampled')\n",
        "\n",
        "orig_path = \"/content/testing/Urban100\"\n",
        "down_path = \"/content/downsampled\"\n",
        "up_path = \"/content/upsampled\"\n",
        "n_img = 100"
      ],
      "execution_count": 4,
      "outputs": []
    },
    {
      "cell_type": "code",
      "metadata": {
        "id": "m2B4mPJr5LJD"
      },
      "source": [
        "# reducir el tamaño de las primeras 80 iamgenes \n",
        "def downsample_images(factor):\n",
        "  print(f\"Runing downsampler x{factor}...\")\n",
        "  for i in range(n_img):\n",
        "    # leer imagen\n",
        "    img = cv.imread(f\"{orig_path}/img_{str(i+1).zfill(3)}.png\")\n",
        "    img = cv.cvtColor(img, cv.COLOR_BGR2RGB)\n",
        "    \n",
        "    # downsample horizontal\n",
        "    for j in range(factor):\n",
        "      img = np.delete(img, range(1, img.shape[0], 2), axis=0)\n",
        "\n",
        "    # downsample vertical\n",
        "    for k in range(factor):\n",
        "      img = np.delete(img, range(1, img.shape[1], 2), axis=1)\n",
        "\n",
        "    # save image to disk\n",
        "    Image.fromarray(img).save(f\"{down_path}/img_{str(i+1).zfill(3)}.png\")\n",
        "  print(f\"Done\\n\")\n"
      ],
      "execution_count": 5,
      "outputs": []
    },
    {
      "cell_type": "code",
      "metadata": {
        "id": "QE6kqRq_Dz6e"
      },
      "source": [
        "# apply bicubic interpolation\n",
        "def bicubic_interpolation(factor):\n",
        "  print(f\"Runing bicubic interpolator x{factor}...\")\n",
        "  for i in range(n_img):\n",
        "    img = cv.imread(f\"{down_path}/img_{str(i+1).zfill(3)}.png\")\n",
        "    img = cv.cvtColor(img, cv.COLOR_BGR2RGB)\n",
        "    img = Image.fromarray(img)\n",
        "    up = img.resize((img.width*(2**factor), img.height*(2**factor)), resample=Image.BICUBIC)\n",
        "    up.save(f\"{up_path}/img_{str(i+1).zfill(3)}.png\")\n",
        "\n",
        "  print(f\"Done\\n\")\n"
      ],
      "execution_count": 6,
      "outputs": []
    },
    {
      "cell_type": "code",
      "metadata": {
        "id": "PTOb02Hsmig-"
      },
      "source": [
        "# calculate mse, psnr and ssim\n",
        "def calculate_errors():\n",
        "  print(f\"calculating errors...\")\n",
        "  results = {\n",
        "      'mse': [],\n",
        "      'psnr': [],\n",
        "      'ssim': [],\n",
        "  }\n",
        "  for i in range(n_img):\n",
        "    img_orig = cv.imread(f\"{orig_path}/img_{str(i+1).zfill(3)}.png\")\n",
        "    img_up = cv.imread(f\"{up_path}/img_{str(i+1).zfill(3)}.png\")\n",
        "\n",
        "    mse_val = mean_squared_error(img_orig, img_up)\n",
        "    psnr_val = peak_signal_noise_ratio(img_orig, img_up, data_range=img_up.max() - img_up.min())\n",
        "    ssim_val = structural_similarity(img_orig, img_up, data_range=img_up.max() - img_up.min(), multichannel=True)\n",
        "\n",
        "    results['mse'].append(mse_val)\n",
        "    results['psnr'].append(psnr_val)\n",
        "    results['ssim'].append(ssim_val)\n",
        "\n",
        "  print(f\"Done\\n\")\n",
        "  return results"
      ],
      "execution_count": 7,
      "outputs": []
    },
    {
      "cell_type": "code",
      "metadata": {
        "id": "x3-6bZwtl_0T"
      },
      "source": [
        "# ejecutar interpolacion bicubica\n",
        "def run_bicubic(factor):\n",
        "  downsample_images(factor)\n",
        "  bicubic_interpolation(factor)\n",
        "  # calcular errores\n",
        "  return calculate_errors()\n"
      ],
      "execution_count": 8,
      "outputs": []
    },
    {
      "cell_type": "code",
      "metadata": {
        "colab": {
          "base_uri": "https://localhost:8080/"
        },
        "id": "rfGnu7htqhpe",
        "outputId": "752bfa73-0279-4f1d-ccb2-5cb980a69380"
      },
      "source": [
        "all_errors = []\n",
        "for factor in [1]:\n",
        "  all_errors.append(run_bicubic(factor))"
      ],
      "execution_count": 17,
      "outputs": [
        {
          "output_type": "stream",
          "text": [
            "Runing downsampler x1...\n",
            "Done\n",
            "\n",
            "Runing bicubic interpolator x1...\n",
            "Done\n",
            "\n",
            "calculating errors...\n",
            "Done\n",
            "\n"
          ],
          "name": "stdout"
        }
      ]
    },
    {
      "cell_type": "code",
      "metadata": {
        "colab": {
          "base_uri": "https://localhost:8080/"
        },
        "id": "owW3KPLVFaw9",
        "outputId": "c707e038-83da-4f05-b030-0126c43b1c31"
      },
      "source": [
        "print( np.array(all_errors[1]['ssim']).mean() )\n",
        "print( np.array(all_errors[1]['psnr']).mean() )"
      ],
      "execution_count": 14,
      "outputs": [
        {
          "output_type": "stream",
          "text": [
            "0.5370026604280196\n",
            "18.332032024250537\n"
          ],
          "name": "stdout"
        }
      ]
    },
    {
      "cell_type": "code",
      "metadata": {
        "colab": {
          "base_uri": "https://localhost:8080/",
          "height": 281
        },
        "id": "ARMKMkKBrBDc",
        "outputId": "82098ee4-d38f-4911-b611-333d08e1c773"
      },
      "source": [
        "plt.title('SSIM')\n",
        "plt.plot(range(n_img), all_errors[0]['ssim'], label='SSIM x2')\n",
        "plt.plot(range(n_img), all_errors[1]['ssim'], label='SSIM x4')\n",
        "\n",
        "plt.plot(range(n_img), np.array(all_errors[0]['ssim']).mean().repeat(n_img), label='Mean SSIM x2')\n",
        "plt.plot(range(n_img), np.array(all_errors[1]['ssim']).mean().repeat(n_img), label='Mean SSIM x4')\n",
        "\n",
        "plt.show()"
      ],
      "execution_count": null,
      "outputs": [
        {
          "output_type": "display_data",
          "data": {
            "image/png": "[encoded data removed]",
            "text/plain": [
              "<Figure size 432x288 with 1 Axes>"
            ]
          },
          "metadata": {
            "tags": [],
            "needs_background": "light"
          }
        }
      ]
    }
  ]
}